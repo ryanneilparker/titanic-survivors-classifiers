{
 "cells": [
  {
   "cell_type": "markdown",
   "id": "expected-lottery",
   "metadata": {
    "papermill": {
     "duration": 0.015092,
     "end_time": "2022-09-30T11:47:09.819558",
     "exception": false,
     "start_time": "2022-09-30T11:47:09.804466",
     "status": "completed"
    },
    "tags": []
   },
   "source": [
    "# Problem Definition\n",
    "\n",
    "Given a labelled dataset of features about passengers aboard the titanic and whether or not they survived. Can we train a classification model to accurately predict the survival of passengers from an unlabelled dataset.\n",
    "\n",
    "## Methodology\n",
    "\n",
    "1. We will firstly inspect the data and determine which features are important to include in our models.\n",
    "2. We will then engineer the selected features such that they are in a form convenient for modelling.\n",
    "3. We will then fit and evaluate a number of models.\n",
    "4. Finally, we will compare the accuracy of the various models and select the best performing model for submission."
   ]
  },
  {
   "cell_type": "markdown",
   "id": "parental-print",
   "metadata": {
    "papermill": {
     "duration": 0.013446,
     "end_time": "2022-09-30T11:47:09.848222",
     "exception": false,
     "start_time": "2022-09-30T11:47:09.834776",
     "status": "completed"
    },
    "tags": []
   },
   "source": [
    "# Data Inspection\n",
    "\n",
    "In this section we will look carefully at the data and derive various statistical measures for each feature. The aim is to understand the data and try to select the features that have the strongest correlation with survival.\n",
    "\n",
    "From the data description on kaggle we know that each row represents a single passenger and the following about the features:\n",
    "\n",
    "- Survival is whether or not the person survived (0 = NO, 1 = YES).\n",
    "- Pclass is the class of the persons ticket (1 = 1st, 2 = 2nd, 3 = 3rd).\n",
    "- Sex is the sex of the person.\n",
    "- Age is the age in years of the person.\n",
    "- Sibsp is the number of siblings or spouses onboard with the person.\n",
    "- Parch is the number of parents or children onboard with the person.\n",
    "- Ticket is the ticket number of the person.\n",
    "- Fare is the price paid by the person.\n",
    "- Cabin is the cabin number in which the person stayed.\n",
    "- Embarked is the port where they boarded the titanic (C = Cherbourg, Q = Queenstown, S = Southhampton)."
   ]
  },
  {
   "cell_type": "code",
   "execution_count": 1,
   "id": "silver-reset",
   "metadata": {
    "execution": {
     "iopub.execute_input": "2022-09-30T11:47:09.888885Z",
     "iopub.status.busy": "2022-09-30T11:47:09.887970Z",
     "iopub.status.idle": "2022-09-30T11:47:10.837633Z",
     "shell.execute_reply": "2022-09-30T11:47:10.838346Z"
    },
    "papermill": {
     "duration": 0.976847,
     "end_time": "2022-09-30T11:47:10.838793",
     "exception": false,
     "start_time": "2022-09-30T11:47:09.861946",
     "status": "completed"
    },
    "tags": []
   },
   "outputs": [
    {
     "name": "stdout",
     "output_type": "stream",
     "text": [
      "<class 'pandas.core.frame.DataFrame'>\n",
      "RangeIndex: 891 entries, 0 to 890\n",
      "Data columns (total 12 columns):\n",
      " #   Column       Non-Null Count  Dtype  \n",
      "---  ------       --------------  -----  \n",
      " 0   PassengerId  891 non-null    int64  \n",
      " 1   Survived     891 non-null    int64  \n",
      " 2   Pclass       891 non-null    int64  \n",
      " 3   Name         891 non-null    object \n",
      " 4   Sex          891 non-null    object \n",
      " 5   Age          714 non-null    float64\n",
      " 6   SibSp        891 non-null    int64  \n",
      " 7   Parch        891 non-null    int64  \n",
      " 8   Ticket       891 non-null    object \n",
      " 9   Fare         891 non-null    float64\n",
      " 10  Cabin        204 non-null    object \n",
      " 11  Embarked     889 non-null    object \n",
      "dtypes: float64(2), int64(5), object(5)\n",
      "memory usage: 83.7+ KB\n",
      "__________________________________________________\n",
      "<class 'pandas.core.frame.DataFrame'>\n",
      "RangeIndex: 418 entries, 0 to 417\n",
      "Data columns (total 11 columns):\n",
      " #   Column       Non-Null Count  Dtype  \n",
      "---  ------       --------------  -----  \n",
      " 0   PassengerId  418 non-null    int64  \n",
      " 1   Pclass       418 non-null    int64  \n",
      " 2   Name         418 non-null    object \n",
      " 3   Sex          418 non-null    object \n",
      " 4   Age          332 non-null    float64\n",
      " 5   SibSp        418 non-null    int64  \n",
      " 6   Parch        418 non-null    int64  \n",
      " 7   Ticket       418 non-null    object \n",
      " 8   Fare         417 non-null    float64\n",
      " 9   Cabin        91 non-null     object \n",
      " 10  Embarked     418 non-null    object \n",
      "dtypes: float64(2), int64(4), object(5)\n",
      "memory usage: 36.0+ KB\n"
     ]
    }
   ],
   "source": [
    "# Data analysis tools\n",
    "import pandas as pd\n",
    "import numpy as np\n",
    "from scipy.stats import pearsonr\n",
    "import random as rnd\n",
    "\n",
    "# Data visualization tools\n",
    "import seaborn as sns\n",
    "import matplotlib.pyplot as plt\n",
    "%matplotlib inline\n",
    "\n",
    "\n",
    "# Import data\n",
    "train = pd.read_csv(\"/kaggle/input/titanic/train.csv\")\n",
    "test = pd.read_csv(\"/kaggle/input/titanic/test.csv\")\n",
    "\n",
    "# Display data information\n",
    "train.info()\n",
    "print('_' * 50)\n",
    "test.info()"
   ]
  },
  {
   "cell_type": "markdown",
   "id": "norman-selection",
   "metadata": {
    "papermill": {
     "duration": 0.015127,
     "end_time": "2022-09-30T11:47:10.870343",
     "exception": false,
     "start_time": "2022-09-30T11:47:10.855216",
     "status": "completed"
    },
    "tags": []
   },
   "source": [
    "From the above printouts we can see that for the test dataset there are:\n",
    "\n",
    "- 6 numerical and 5 string type features.\n",
    "- Age, Cabin and Embarked contain missing values (19.87%, 77.1% and 0.22% respectively)."
   ]
  },
  {
   "cell_type": "code",
   "execution_count": 2,
   "id": "scientific-theater",
   "metadata": {
    "execution": {
     "iopub.execute_input": "2022-09-30T11:47:10.909108Z",
     "iopub.status.busy": "2022-09-30T11:47:10.908051Z",
     "iopub.status.idle": "2022-09-30T11:47:10.947298Z",
     "shell.execute_reply": "2022-09-30T11:47:10.946667Z"
    },
    "papermill": {
     "duration": 0.062337,
     "end_time": "2022-09-30T11:47:10.947464",
     "exception": false,
     "start_time": "2022-09-30T11:47:10.885127",
     "status": "completed"
    },
    "tags": []
   },
   "outputs": [
    {
     "data": {
      "text/html": [
       "<div>\n",
       "<style scoped>\n",
       "    .dataframe tbody tr th:only-of-type {\n",
       "        vertical-align: middle;\n",
       "    }\n",
       "\n",
       "    .dataframe tbody tr th {\n",
       "        vertical-align: top;\n",
       "    }\n",
       "\n",
       "    .dataframe thead th {\n",
       "        text-align: right;\n",
       "    }\n",
       "</style>\n",
       "<table border=\"1\" class=\"dataframe\">\n",
       "  <thead>\n",
       "    <tr style=\"text-align: right;\">\n",
       "      <th></th>\n",
       "      <th>PassengerId</th>\n",
       "      <th>Survived</th>\n",
       "      <th>Pclass</th>\n",
       "      <th>Age</th>\n",
       "      <th>SibSp</th>\n",
       "      <th>Parch</th>\n",
       "      <th>Fare</th>\n",
       "    </tr>\n",
       "  </thead>\n",
       "  <tbody>\n",
       "    <tr>\n",
       "      <th>count</th>\n",
       "      <td>891.000000</td>\n",
       "      <td>891.000000</td>\n",
       "      <td>891.000000</td>\n",
       "      <td>714.000000</td>\n",
       "      <td>891.000000</td>\n",
       "      <td>891.000000</td>\n",
       "      <td>891.000000</td>\n",
       "    </tr>\n",
       "    <tr>\n",
       "      <th>mean</th>\n",
       "      <td>446.000000</td>\n",
       "      <td>0.383838</td>\n",
       "      <td>2.308642</td>\n",
       "      <td>29.699118</td>\n",
       "      <td>0.523008</td>\n",
       "      <td>0.381594</td>\n",
       "      <td>32.204208</td>\n",
       "    </tr>\n",
       "    <tr>\n",
       "      <th>std</th>\n",
       "      <td>257.353842</td>\n",
       "      <td>0.486592</td>\n",
       "      <td>0.836071</td>\n",
       "      <td>14.526497</td>\n",
       "      <td>1.102743</td>\n",
       "      <td>0.806057</td>\n",
       "      <td>49.693429</td>\n",
       "    </tr>\n",
       "    <tr>\n",
       "      <th>min</th>\n",
       "      <td>1.000000</td>\n",
       "      <td>0.000000</td>\n",
       "      <td>1.000000</td>\n",
       "      <td>0.420000</td>\n",
       "      <td>0.000000</td>\n",
       "      <td>0.000000</td>\n",
       "      <td>0.000000</td>\n",
       "    </tr>\n",
       "    <tr>\n",
       "      <th>25%</th>\n",
       "      <td>223.500000</td>\n",
       "      <td>0.000000</td>\n",
       "      <td>2.000000</td>\n",
       "      <td>20.125000</td>\n",
       "      <td>0.000000</td>\n",
       "      <td>0.000000</td>\n",
       "      <td>7.910400</td>\n",
       "    </tr>\n",
       "    <tr>\n",
       "      <th>50%</th>\n",
       "      <td>446.000000</td>\n",
       "      <td>0.000000</td>\n",
       "      <td>3.000000</td>\n",
       "      <td>28.000000</td>\n",
       "      <td>0.000000</td>\n",
       "      <td>0.000000</td>\n",
       "      <td>14.454200</td>\n",
       "    </tr>\n",
       "    <tr>\n",
       "      <th>75%</th>\n",
       "      <td>668.500000</td>\n",
       "      <td>1.000000</td>\n",
       "      <td>3.000000</td>\n",
       "      <td>38.000000</td>\n",
       "      <td>1.000000</td>\n",
       "      <td>0.000000</td>\n",
       "      <td>31.000000</td>\n",
       "    </tr>\n",
       "    <tr>\n",
       "      <th>max</th>\n",
       "      <td>891.000000</td>\n",
       "      <td>1.000000</td>\n",
       "      <td>3.000000</td>\n",
       "      <td>80.000000</td>\n",
       "      <td>8.000000</td>\n",
       "      <td>6.000000</td>\n",
       "      <td>512.329200</td>\n",
       "    </tr>\n",
       "  </tbody>\n",
       "</table>\n",
       "</div>"
      ],
      "text/plain": [
       "       PassengerId    Survived      Pclass         Age       SibSp  \\\n",
       "count   891.000000  891.000000  891.000000  714.000000  891.000000   \n",
       "mean    446.000000    0.383838    2.308642   29.699118    0.523008   \n",
       "std     257.353842    0.486592    0.836071   14.526497    1.102743   \n",
       "min       1.000000    0.000000    1.000000    0.420000    0.000000   \n",
       "25%     223.500000    0.000000    2.000000   20.125000    0.000000   \n",
       "50%     446.000000    0.000000    3.000000   28.000000    0.000000   \n",
       "75%     668.500000    1.000000    3.000000   38.000000    1.000000   \n",
       "max     891.000000    1.000000    3.000000   80.000000    8.000000   \n",
       "\n",
       "            Parch        Fare  \n",
       "count  891.000000  891.000000  \n",
       "mean     0.381594   32.204208  \n",
       "std      0.806057   49.693429  \n",
       "min      0.000000    0.000000  \n",
       "25%      0.000000    7.910400  \n",
       "50%      0.000000   14.454200  \n",
       "75%      0.000000   31.000000  \n",
       "max      6.000000  512.329200  "
      ]
     },
     "execution_count": 2,
     "metadata": {},
     "output_type": "execute_result"
    }
   ],
   "source": [
    "train.describe()"
   ]
  },
  {
   "cell_type": "markdown",
   "id": "persistent-puzzle",
   "metadata": {
    "papermill": {
     "duration": 0.015,
     "end_time": "2022-09-30T11:47:10.978987",
     "exception": false,
     "start_time": "2022-09-30T11:47:10.963987",
     "status": "completed"
    },
    "tags": []
   },
   "source": [
    "From the descriptive statistics generated on the numerical features for the train dataset we can see that:\n",
    "\n",
    "- 38.38% of passengers survived (reperesentative of the actual survival rate of 32%).\n",
    "- The average age of passengers was about 30 years old.\n",
    "- 75% of passengers onboard were under 38 years of age.\n",
    "- Most passengers did not travel with parents or children.\n",
    "- Most passengers (75%) payed less than 31 in fares but a small minority payed as much as 512.\n",
    "- Most passengers did not travel with siblings more than 1 sibling of spouse."
   ]
  },
  {
   "cell_type": "code",
   "execution_count": 3,
   "id": "golden-money",
   "metadata": {
    "execution": {
     "iopub.execute_input": "2022-09-30T11:47:11.017590Z",
     "iopub.status.busy": "2022-09-30T11:47:11.016626Z",
     "iopub.status.idle": "2022-09-30T11:47:11.051337Z",
     "shell.execute_reply": "2022-09-30T11:47:11.051913Z"
    },
    "papermill": {
     "duration": 0.058217,
     "end_time": "2022-09-30T11:47:11.052109",
     "exception": false,
     "start_time": "2022-09-30T11:47:10.993892",
     "status": "completed"
    },
    "tags": []
   },
   "outputs": [
    {
     "data": {
      "text/html": [
       "<div>\n",
       "<style scoped>\n",
       "    .dataframe tbody tr th:only-of-type {\n",
       "        vertical-align: middle;\n",
       "    }\n",
       "\n",
       "    .dataframe tbody tr th {\n",
       "        vertical-align: top;\n",
       "    }\n",
       "\n",
       "    .dataframe thead th {\n",
       "        text-align: right;\n",
       "    }\n",
       "</style>\n",
       "<table border=\"1\" class=\"dataframe\">\n",
       "  <thead>\n",
       "    <tr style=\"text-align: right;\">\n",
       "      <th></th>\n",
       "      <th>Name</th>\n",
       "      <th>Sex</th>\n",
       "      <th>Ticket</th>\n",
       "      <th>Cabin</th>\n",
       "      <th>Embarked</th>\n",
       "    </tr>\n",
       "  </thead>\n",
       "  <tbody>\n",
       "    <tr>\n",
       "      <th>count</th>\n",
       "      <td>891</td>\n",
       "      <td>891</td>\n",
       "      <td>891</td>\n",
       "      <td>204</td>\n",
       "      <td>889</td>\n",
       "    </tr>\n",
       "    <tr>\n",
       "      <th>unique</th>\n",
       "      <td>891</td>\n",
       "      <td>2</td>\n",
       "      <td>681</td>\n",
       "      <td>147</td>\n",
       "      <td>3</td>\n",
       "    </tr>\n",
       "    <tr>\n",
       "      <th>top</th>\n",
       "      <td>Strom, Miss. Telma Matilda</td>\n",
       "      <td>male</td>\n",
       "      <td>347082</td>\n",
       "      <td>C23 C25 C27</td>\n",
       "      <td>S</td>\n",
       "    </tr>\n",
       "    <tr>\n",
       "      <th>freq</th>\n",
       "      <td>1</td>\n",
       "      <td>577</td>\n",
       "      <td>7</td>\n",
       "      <td>4</td>\n",
       "      <td>644</td>\n",
       "    </tr>\n",
       "  </tbody>\n",
       "</table>\n",
       "</div>"
      ],
      "text/plain": [
       "                              Name   Sex  Ticket        Cabin Embarked\n",
       "count                          891   891     891          204      889\n",
       "unique                         891     2     681          147        3\n",
       "top     Strom, Miss. Telma Matilda  male  347082  C23 C25 C27        S\n",
       "freq                             1   577       7            4      644"
      ]
     },
     "execution_count": 3,
     "metadata": {},
     "output_type": "execute_result"
    }
   ],
   "source": [
    "train.describe(include = ['O'])"
   ]
  },
  {
   "cell_type": "markdown",
   "id": "veterinary-samuel",
   "metadata": {
    "papermill": {
     "duration": 0.015565,
     "end_time": "2022-09-30T11:47:11.083955",
     "exception": false,
     "start_time": "2022-09-30T11:47:11.068390",
     "status": "completed"
    },
    "tags": []
   },
   "source": [
    "From the descriptive statistics generated on the categorical features for the train dataset we can see that:\n",
    "\n",
    "- All names were unique.\n",
    "- The passengers were 65% male.\n",
    "- Some ticket numbers were repeated (most likely due to families purchasing one ticket for multiple people).\n",
    "- Some cabin numbers were repeated (for similiar reasons as ticket numbers).\n",
    "- The port of Southampton (S) was most frequently embarked from (72.44%).\n",
    "\n",
    "## Feature Selection\n",
    "\n",
    "From the above analysis we decide to remove:\n",
    "\n",
    "- Name as it is unique for each row.\n",
    "- Ticket as we cannot be sure that the repeated entries are not an error.\n",
    "- Cabin for the same reason as above and also due to a large number of missing values.\n",
    "- Passengerid as it is unique for each row."
   ]
  },
  {
   "cell_type": "code",
   "execution_count": 4,
   "id": "buried-malpractice",
   "metadata": {
    "execution": {
     "iopub.execute_input": "2022-09-30T11:47:11.120353Z",
     "iopub.status.busy": "2022-09-30T11:47:11.119632Z",
     "iopub.status.idle": "2022-09-30T11:47:11.137009Z",
     "shell.execute_reply": "2022-09-30T11:47:11.137492Z"
    },
    "papermill": {
     "duration": 0.037211,
     "end_time": "2022-09-30T11:47:11.137691",
     "exception": false,
     "start_time": "2022-09-30T11:47:11.100480",
     "status": "completed"
    },
    "tags": []
   },
   "outputs": [
    {
     "data": {
      "text/html": [
       "<div>\n",
       "<style scoped>\n",
       "    .dataframe tbody tr th:only-of-type {\n",
       "        vertical-align: middle;\n",
       "    }\n",
       "\n",
       "    .dataframe tbody tr th {\n",
       "        vertical-align: top;\n",
       "    }\n",
       "\n",
       "    .dataframe thead th {\n",
       "        text-align: right;\n",
       "    }\n",
       "</style>\n",
       "<table border=\"1\" class=\"dataframe\">\n",
       "  <thead>\n",
       "    <tr style=\"text-align: right;\">\n",
       "      <th></th>\n",
       "      <th>Pclass</th>\n",
       "      <th>Survived</th>\n",
       "    </tr>\n",
       "  </thead>\n",
       "  <tbody>\n",
       "    <tr>\n",
       "      <th>0</th>\n",
       "      <td>1</td>\n",
       "      <td>0.629630</td>\n",
       "    </tr>\n",
       "    <tr>\n",
       "      <th>1</th>\n",
       "      <td>2</td>\n",
       "      <td>0.472826</td>\n",
       "    </tr>\n",
       "    <tr>\n",
       "      <th>2</th>\n",
       "      <td>3</td>\n",
       "      <td>0.242363</td>\n",
       "    </tr>\n",
       "  </tbody>\n",
       "</table>\n",
       "</div>"
      ],
      "text/plain": [
       "   Pclass  Survived\n",
       "0       1  0.629630\n",
       "1       2  0.472826\n",
       "2       3  0.242363"
      ]
     },
     "execution_count": 4,
     "metadata": {},
     "output_type": "execute_result"
    }
   ],
   "source": [
    "train[[\"Pclass\", \"Survived\"]].groupby([\"Pclass\"], as_index = False).mean().sort_values(by = \"Survived\", ascending = False)"
   ]
  },
  {
   "cell_type": "code",
   "execution_count": 5,
   "id": "brave-strap",
   "metadata": {
    "execution": {
     "iopub.execute_input": "2022-09-30T11:47:11.174179Z",
     "iopub.status.busy": "2022-09-30T11:47:11.173145Z",
     "iopub.status.idle": "2022-09-30T11:47:11.189566Z",
     "shell.execute_reply": "2022-09-30T11:47:11.190076Z"
    },
    "papermill": {
     "duration": 0.035875,
     "end_time": "2022-09-30T11:47:11.190270",
     "exception": false,
     "start_time": "2022-09-30T11:47:11.154395",
     "status": "completed"
    },
    "tags": []
   },
   "outputs": [
    {
     "data": {
      "text/html": [
       "<div>\n",
       "<style scoped>\n",
       "    .dataframe tbody tr th:only-of-type {\n",
       "        vertical-align: middle;\n",
       "    }\n",
       "\n",
       "    .dataframe tbody tr th {\n",
       "        vertical-align: top;\n",
       "    }\n",
       "\n",
       "    .dataframe thead th {\n",
       "        text-align: right;\n",
       "    }\n",
       "</style>\n",
       "<table border=\"1\" class=\"dataframe\">\n",
       "  <thead>\n",
       "    <tr style=\"text-align: right;\">\n",
       "      <th></th>\n",
       "      <th>Sex</th>\n",
       "      <th>Survived</th>\n",
       "    </tr>\n",
       "  </thead>\n",
       "  <tbody>\n",
       "    <tr>\n",
       "      <th>0</th>\n",
       "      <td>female</td>\n",
       "      <td>0.742038</td>\n",
       "    </tr>\n",
       "    <tr>\n",
       "      <th>1</th>\n",
       "      <td>male</td>\n",
       "      <td>0.188908</td>\n",
       "    </tr>\n",
       "  </tbody>\n",
       "</table>\n",
       "</div>"
      ],
      "text/plain": [
       "      Sex  Survived\n",
       "0  female  0.742038\n",
       "1    male  0.188908"
      ]
     },
     "execution_count": 5,
     "metadata": {},
     "output_type": "execute_result"
    }
   ],
   "source": [
    "train[[\"Sex\", \"Survived\"]].groupby([\"Sex\"], as_index = False).mean().sort_values(by = \"Survived\", ascending = False)"
   ]
  },
  {
   "cell_type": "code",
   "execution_count": 6,
   "id": "opened-gambling",
   "metadata": {
    "execution": {
     "iopub.execute_input": "2022-09-30T11:47:11.228134Z",
     "iopub.status.busy": "2022-09-30T11:47:11.227042Z",
     "iopub.status.idle": "2022-09-30T11:47:11.243235Z",
     "shell.execute_reply": "2022-09-30T11:47:11.243737Z"
    },
    "papermill": {
     "duration": 0.036674,
     "end_time": "2022-09-30T11:47:11.243963",
     "exception": false,
     "start_time": "2022-09-30T11:47:11.207289",
     "status": "completed"
    },
    "tags": []
   },
   "outputs": [
    {
     "data": {
      "text/html": [
       "<div>\n",
       "<style scoped>\n",
       "    .dataframe tbody tr th:only-of-type {\n",
       "        vertical-align: middle;\n",
       "    }\n",
       "\n",
       "    .dataframe tbody tr th {\n",
       "        vertical-align: top;\n",
       "    }\n",
       "\n",
       "    .dataframe thead th {\n",
       "        text-align: right;\n",
       "    }\n",
       "</style>\n",
       "<table border=\"1\" class=\"dataframe\">\n",
       "  <thead>\n",
       "    <tr style=\"text-align: right;\">\n",
       "      <th></th>\n",
       "      <th>SibSp</th>\n",
       "      <th>Survived</th>\n",
       "    </tr>\n",
       "  </thead>\n",
       "  <tbody>\n",
       "    <tr>\n",
       "      <th>1</th>\n",
       "      <td>1</td>\n",
       "      <td>0.535885</td>\n",
       "    </tr>\n",
       "    <tr>\n",
       "      <th>2</th>\n",
       "      <td>2</td>\n",
       "      <td>0.464286</td>\n",
       "    </tr>\n",
       "    <tr>\n",
       "      <th>0</th>\n",
       "      <td>0</td>\n",
       "      <td>0.345395</td>\n",
       "    </tr>\n",
       "    <tr>\n",
       "      <th>3</th>\n",
       "      <td>3</td>\n",
       "      <td>0.250000</td>\n",
       "    </tr>\n",
       "    <tr>\n",
       "      <th>4</th>\n",
       "      <td>4</td>\n",
       "      <td>0.166667</td>\n",
       "    </tr>\n",
       "    <tr>\n",
       "      <th>5</th>\n",
       "      <td>5</td>\n",
       "      <td>0.000000</td>\n",
       "    </tr>\n",
       "    <tr>\n",
       "      <th>6</th>\n",
       "      <td>8</td>\n",
       "      <td>0.000000</td>\n",
       "    </tr>\n",
       "  </tbody>\n",
       "</table>\n",
       "</div>"
      ],
      "text/plain": [
       "   SibSp  Survived\n",
       "1      1  0.535885\n",
       "2      2  0.464286\n",
       "0      0  0.345395\n",
       "3      3  0.250000\n",
       "4      4  0.166667\n",
       "5      5  0.000000\n",
       "6      8  0.000000"
      ]
     },
     "execution_count": 6,
     "metadata": {},
     "output_type": "execute_result"
    }
   ],
   "source": [
    "train[[\"SibSp\", \"Survived\"]].groupby([\"SibSp\"], as_index = False).mean().sort_values(by = \"Survived\", ascending = False)"
   ]
  },
  {
   "cell_type": "code",
   "execution_count": 7,
   "id": "incorporate-lesbian",
   "metadata": {
    "execution": {
     "iopub.execute_input": "2022-09-30T11:47:11.283719Z",
     "iopub.status.busy": "2022-09-30T11:47:11.282713Z",
     "iopub.status.idle": "2022-09-30T11:47:11.303959Z",
     "shell.execute_reply": "2022-09-30T11:47:11.304491Z"
    },
    "papermill": {
     "duration": 0.042779,
     "end_time": "2022-09-30T11:47:11.304676",
     "exception": false,
     "start_time": "2022-09-30T11:47:11.261897",
     "status": "completed"
    },
    "tags": []
   },
   "outputs": [
    {
     "data": {
      "text/html": [
       "<div>\n",
       "<style scoped>\n",
       "    .dataframe tbody tr th:only-of-type {\n",
       "        vertical-align: middle;\n",
       "    }\n",
       "\n",
       "    .dataframe tbody tr th {\n",
       "        vertical-align: top;\n",
       "    }\n",
       "\n",
       "    .dataframe thead th {\n",
       "        text-align: right;\n",
       "    }\n",
       "</style>\n",
       "<table border=\"1\" class=\"dataframe\">\n",
       "  <thead>\n",
       "    <tr style=\"text-align: right;\">\n",
       "      <th></th>\n",
       "      <th>Fare</th>\n",
       "      <th>Survived</th>\n",
       "    </tr>\n",
       "  </thead>\n",
       "  <tbody>\n",
       "    <tr>\n",
       "      <th>247</th>\n",
       "      <td>512.3292</td>\n",
       "      <td>1.0</td>\n",
       "    </tr>\n",
       "    <tr>\n",
       "      <th>196</th>\n",
       "      <td>57.9792</td>\n",
       "      <td>1.0</td>\n",
       "    </tr>\n",
       "    <tr>\n",
       "      <th>89</th>\n",
       "      <td>13.8583</td>\n",
       "      <td>1.0</td>\n",
       "    </tr>\n",
       "    <tr>\n",
       "      <th>88</th>\n",
       "      <td>13.7917</td>\n",
       "      <td>1.0</td>\n",
       "    </tr>\n",
       "    <tr>\n",
       "      <th>86</th>\n",
       "      <td>13.4167</td>\n",
       "      <td>1.0</td>\n",
       "    </tr>\n",
       "    <tr>\n",
       "      <th>...</th>\n",
       "      <td>...</td>\n",
       "      <td>...</td>\n",
       "    </tr>\n",
       "    <tr>\n",
       "      <th>103</th>\n",
       "      <td>15.5500</td>\n",
       "      <td>0.0</td>\n",
       "    </tr>\n",
       "    <tr>\n",
       "      <th>180</th>\n",
       "      <td>47.1000</td>\n",
       "      <td>0.0</td>\n",
       "    </tr>\n",
       "    <tr>\n",
       "      <th>179</th>\n",
       "      <td>46.9000</td>\n",
       "      <td>0.0</td>\n",
       "    </tr>\n",
       "    <tr>\n",
       "      <th>178</th>\n",
       "      <td>42.4000</td>\n",
       "      <td>0.0</td>\n",
       "    </tr>\n",
       "    <tr>\n",
       "      <th>124</th>\n",
       "      <td>21.0750</td>\n",
       "      <td>0.0</td>\n",
       "    </tr>\n",
       "  </tbody>\n",
       "</table>\n",
       "<p>248 rows × 2 columns</p>\n",
       "</div>"
      ],
      "text/plain": [
       "         Fare  Survived\n",
       "247  512.3292       1.0\n",
       "196   57.9792       1.0\n",
       "89    13.8583       1.0\n",
       "88    13.7917       1.0\n",
       "86    13.4167       1.0\n",
       "..        ...       ...\n",
       "103   15.5500       0.0\n",
       "180   47.1000       0.0\n",
       "179   46.9000       0.0\n",
       "178   42.4000       0.0\n",
       "124   21.0750       0.0\n",
       "\n",
       "[248 rows x 2 columns]"
      ]
     },
     "execution_count": 7,
     "metadata": {},
     "output_type": "execute_result"
    }
   ],
   "source": [
    "train[[\"Fare\", \"Survived\"]].groupby([\"Fare\"], as_index = False).mean().sort_values(by = \"Survived\", ascending = False)"
   ]
  },
  {
   "cell_type": "code",
   "execution_count": 8,
   "id": "accompanied-prime",
   "metadata": {
    "execution": {
     "iopub.execute_input": "2022-09-30T11:47:11.344344Z",
     "iopub.status.busy": "2022-09-30T11:47:11.343331Z",
     "iopub.status.idle": "2022-09-30T11:47:11.358030Z",
     "shell.execute_reply": "2022-09-30T11:47:11.358548Z"
    },
    "papermill": {
     "duration": 0.035708,
     "end_time": "2022-09-30T11:47:11.358760",
     "exception": false,
     "start_time": "2022-09-30T11:47:11.323052",
     "status": "completed"
    },
    "tags": []
   },
   "outputs": [
    {
     "data": {
      "text/html": [
       "<div>\n",
       "<style scoped>\n",
       "    .dataframe tbody tr th:only-of-type {\n",
       "        vertical-align: middle;\n",
       "    }\n",
       "\n",
       "    .dataframe tbody tr th {\n",
       "        vertical-align: top;\n",
       "    }\n",
       "\n",
       "    .dataframe thead th {\n",
       "        text-align: right;\n",
       "    }\n",
       "</style>\n",
       "<table border=\"1\" class=\"dataframe\">\n",
       "  <thead>\n",
       "    <tr style=\"text-align: right;\">\n",
       "      <th></th>\n",
       "      <th>Parch</th>\n",
       "      <th>Survived</th>\n",
       "    </tr>\n",
       "  </thead>\n",
       "  <tbody>\n",
       "    <tr>\n",
       "      <th>3</th>\n",
       "      <td>3</td>\n",
       "      <td>0.600000</td>\n",
       "    </tr>\n",
       "    <tr>\n",
       "      <th>1</th>\n",
       "      <td>1</td>\n",
       "      <td>0.550847</td>\n",
       "    </tr>\n",
       "    <tr>\n",
       "      <th>2</th>\n",
       "      <td>2</td>\n",
       "      <td>0.500000</td>\n",
       "    </tr>\n",
       "    <tr>\n",
       "      <th>0</th>\n",
       "      <td>0</td>\n",
       "      <td>0.343658</td>\n",
       "    </tr>\n",
       "    <tr>\n",
       "      <th>5</th>\n",
       "      <td>5</td>\n",
       "      <td>0.200000</td>\n",
       "    </tr>\n",
       "    <tr>\n",
       "      <th>4</th>\n",
       "      <td>4</td>\n",
       "      <td>0.000000</td>\n",
       "    </tr>\n",
       "    <tr>\n",
       "      <th>6</th>\n",
       "      <td>6</td>\n",
       "      <td>0.000000</td>\n",
       "    </tr>\n",
       "  </tbody>\n",
       "</table>\n",
       "</div>"
      ],
      "text/plain": [
       "   Parch  Survived\n",
       "3      3  0.600000\n",
       "1      1  0.550847\n",
       "2      2  0.500000\n",
       "0      0  0.343658\n",
       "5      5  0.200000\n",
       "4      4  0.000000\n",
       "6      6  0.000000"
      ]
     },
     "execution_count": 8,
     "metadata": {},
     "output_type": "execute_result"
    }
   ],
   "source": [
    "train[[\"Parch\", \"Survived\"]].groupby([\"Parch\"], as_index = False).mean().sort_values(by = \"Survived\", ascending = False)"
   ]
  },
  {
   "cell_type": "markdown",
   "id": "honest-cursor",
   "metadata": {
    "papermill": {
     "duration": 0.019512,
     "end_time": "2022-09-30T11:47:11.397220",
     "exception": false,
     "start_time": "2022-09-30T11:47:11.377708",
     "status": "completed"
    },
    "tags": []
   },
   "source": [
    "From the above comaprisons we can see that:\n",
    "\n",
    "- Pclass correlates strongly with Survived.\n",
    "- Sex correlates strongly with Survived.\n",
    "- SibSp somewhat correlates with Survived.\n",
    "- Fare does not seem to correlate with survived (so we remove it from the feature selection).\n",
    "- Parch does not seem to correlate with Survived (so we remove it from the feature selection).\n",
    "\n",
    "Therefore, we will select the following 5 features for modelling:\n",
    "\n",
    "- Age\n",
    "- Pclass\n",
    "- Sex\n",
    "- SibSp\n",
    "- Embarked"
   ]
  },
  {
   "cell_type": "markdown",
   "id": "flexible-vietnam",
   "metadata": {
    "papermill": {
     "duration": 0.017744,
     "end_time": "2022-09-30T11:47:11.433063",
     "exception": false,
     "start_time": "2022-09-30T11:47:11.415319",
     "status": "completed"
    },
    "tags": []
   },
   "source": [
    "# Data Wrangling\n",
    "\n",
    "We need to drop the features that we won't be using in our models and convert the remaining features to numerical types (this is because most models require that the data be in numerical format)."
   ]
  },
  {
   "cell_type": "code",
   "execution_count": 9,
   "id": "moderate-drilling",
   "metadata": {
    "execution": {
     "iopub.execute_input": "2022-09-30T11:47:11.478511Z",
     "iopub.status.busy": "2022-09-30T11:47:11.477764Z",
     "iopub.status.idle": "2022-09-30T11:47:11.492570Z",
     "shell.execute_reply": "2022-09-30T11:47:11.493097Z"
    },
    "papermill": {
     "duration": 0.041034,
     "end_time": "2022-09-30T11:47:11.493317",
     "exception": false,
     "start_time": "2022-09-30T11:47:11.452283",
     "status": "completed"
    },
    "tags": []
   },
   "outputs": [],
   "source": [
    "# Dropping features\n",
    "train = train.drop([\"Ticket\", \"Cabin\", \"PassengerId\", \"Name\", \"Parch\", \"Fare\"], axis = 1)\n",
    "test = test.drop([\"Ticket\", \"Cabin\", \"Name\", \"Parch\", \"Fare\"], axis = 1)\n",
    "\n",
    "# Dropping missing values\n",
    "train = train.dropna()\n",
    "test = test.dropna()\n",
    "full_data = [train, test]\n",
    "\n",
    "# Converting categorical features to numeric\n",
    "for dataset in full_data:\n",
    "    dataset[\"Sex\"] = dataset[\"Sex\"].map( {\"female\": 1, \"male\": 0}).astype(int)\n",
    "\n",
    "for dataset in full_data:\n",
    "    dataset[\"Embarked\"] = dataset[\"Embarked\"].map( {\"S\": 0, \"C\": 1, \"Q\": 2}).astype(int)"
   ]
  },
  {
   "cell_type": "markdown",
   "id": "governing-toner",
   "metadata": {
    "papermill": {
     "duration": 0.020323,
     "end_time": "2022-09-30T11:47:11.532061",
     "exception": false,
     "start_time": "2022-09-30T11:47:11.511738",
     "status": "completed"
    },
    "tags": []
   },
   "source": [
    "# Modelling\n",
    "\n",
    "To determine an accurate model we will evaluate the following classfification models:\n",
    "\n",
    "- Logistic Regression\n",
    "- K-Nearest Neighbors\n",
    "- Decision Tree Classification\n",
    "- Random Forest Classification"
   ]
  },
  {
   "cell_type": "code",
   "execution_count": 10,
   "id": "suspended-hours",
   "metadata": {
    "execution": {
     "iopub.execute_input": "2022-09-30T11:47:11.574648Z",
     "iopub.status.busy": "2022-09-30T11:47:11.573934Z",
     "iopub.status.idle": "2022-09-30T11:47:12.019359Z",
     "shell.execute_reply": "2022-09-30T11:47:12.019896Z"
    },
    "papermill": {
     "duration": 0.468339,
     "end_time": "2022-09-30T11:47:12.020111",
     "exception": false,
     "start_time": "2022-09-30T11:47:11.551772",
     "status": "completed"
    },
    "tags": []
   },
   "outputs": [],
   "source": [
    "# machine learning models\n",
    "from sklearn.linear_model import LogisticRegression\n",
    "from sklearn.ensemble import RandomForestClassifier\n",
    "from sklearn.neighbors import KNeighborsClassifier\n",
    "from sklearn.tree import DecisionTreeClassifier\n",
    "\n",
    "# Formatting train and test sets\n",
    "X_train = train.drop(\"Survived\", axis = 1)\n",
    "y_train = train[\"Survived\"]\n",
    "X_test = test.drop(\"PassengerId\", axis = 1).copy()"
   ]
  },
  {
   "cell_type": "code",
   "execution_count": 11,
   "id": "global-brass",
   "metadata": {
    "execution": {
     "iopub.execute_input": "2022-09-30T11:47:12.060965Z",
     "iopub.status.busy": "2022-09-30T11:47:12.060265Z",
     "iopub.status.idle": "2022-09-30T11:47:12.099453Z",
     "shell.execute_reply": "2022-09-30T11:47:12.098688Z"
    },
    "papermill": {
     "duration": 0.060821,
     "end_time": "2022-09-30T11:47:12.099615",
     "exception": false,
     "start_time": "2022-09-30T11:47:12.038794",
     "status": "completed"
    },
    "tags": []
   },
   "outputs": [
    {
     "name": "stdout",
     "output_type": "stream",
     "text": [
      "Logistic Regression Score: 80.76\n"
     ]
    }
   ],
   "source": [
    "# Logistic Regression\n",
    "\n",
    "logreg = LogisticRegression()\n",
    "logreg.fit(X_train, y_train)\n",
    "prediction = logreg.predict(X_test)\n",
    "\n",
    "print(\"Logistic Regression Score:\", round(logreg.score(X_train, y_train) * 100, 2))"
   ]
  },
  {
   "cell_type": "code",
   "execution_count": 12,
   "id": "periodic-musical",
   "metadata": {
    "execution": {
     "iopub.execute_input": "2022-09-30T11:47:12.149609Z",
     "iopub.status.busy": "2022-09-30T11:47:12.146221Z",
     "iopub.status.idle": "2022-09-30T11:47:12.203965Z",
     "shell.execute_reply": "2022-09-30T11:47:12.203253Z"
    },
    "papermill": {
     "duration": 0.08541,
     "end_time": "2022-09-30T11:47:12.204144",
     "exception": false,
     "start_time": "2022-09-30T11:47:12.118734",
     "status": "completed"
    },
    "tags": []
   },
   "outputs": [
    {
     "name": "stdout",
     "output_type": "stream",
     "text": [
      "K-Nearest Neighbors Score: 88.06\n"
     ]
    }
   ],
   "source": [
    "# KNN\n",
    "knn = KNeighborsClassifier(n_neighbors = 3)\n",
    "knn.fit(X_train, y_train)\n",
    "prediction = knn.predict(X_test)\n",
    "\n",
    "print(\"K-Nearest Neighbors Score:\", round(knn.score(X_train, y_train) * 100, 2))"
   ]
  },
  {
   "cell_type": "code",
   "execution_count": 13,
   "id": "changing-width",
   "metadata": {
    "execution": {
     "iopub.execute_input": "2022-09-30T11:47:12.248908Z",
     "iopub.status.busy": "2022-09-30T11:47:12.247925Z",
     "iopub.status.idle": "2022-09-30T11:47:12.264474Z",
     "shell.execute_reply": "2022-09-30T11:47:12.263838Z"
    },
    "papermill": {
     "duration": 0.039418,
     "end_time": "2022-09-30T11:47:12.264629",
     "exception": false,
     "start_time": "2022-09-30T11:47:12.225211",
     "status": "completed"
    },
    "tags": []
   },
   "outputs": [
    {
     "name": "stdout",
     "output_type": "stream",
     "text": [
      "Decision Tree Score: 93.4\n"
     ]
    }
   ],
   "source": [
    "# Decision Tree\n",
    "tree = DecisionTreeClassifier()\n",
    "tree.fit(X_train, y_train)\n",
    "prediction = tree.predict(X_test)\n",
    "\n",
    "print(\"Decision Tree Score:\", round(tree.score(X_train, y_train) * 100, 2))"
   ]
  },
  {
   "cell_type": "code",
   "execution_count": 14,
   "id": "private-township",
   "metadata": {
    "execution": {
     "iopub.execute_input": "2022-09-30T11:47:12.316016Z",
     "iopub.status.busy": "2022-09-30T11:47:12.314952Z",
     "iopub.status.idle": "2022-09-30T11:47:12.563270Z",
     "shell.execute_reply": "2022-09-30T11:47:12.562547Z"
    },
    "papermill": {
     "duration": 0.278563,
     "end_time": "2022-09-30T11:47:12.563421",
     "exception": false,
     "start_time": "2022-09-30T11:47:12.284858",
     "status": "completed"
    },
    "tags": []
   },
   "outputs": [
    {
     "name": "stdout",
     "output_type": "stream",
     "text": [
      "Random Forest Score: 93.4\n"
     ]
    }
   ],
   "source": [
    "# Random Forest\n",
    "forest = RandomForestClassifier(n_estimators = 100)\n",
    "forest.fit(X_train, y_train)\n",
    "forest_prediction = forest.predict(X_test)\n",
    "\n",
    "print(\"Random Forest Score:\", round(forest.score(X_train, y_train) * 100, 2))"
   ]
  },
  {
   "cell_type": "markdown",
   "id": "palestinian-israeli",
   "metadata": {
    "papermill": {
     "duration": 0.020448,
     "end_time": "2022-09-30T11:47:12.604931",
     "exception": false,
     "start_time": "2022-09-30T11:47:12.584483",
     "status": "completed"
    },
    "tags": []
   },
   "source": [
    "# Results\n",
    "\n",
    "The decision tree and random forest both have the highest score so we choose the random forest as it tends to generalize better than a single tree. In conclusion we can see that in this case atleast, the random forest would be a could choice of classifier."
   ]
  }
 ],
 "metadata": {
  "kernelspec": {
   "display_name": "Python 3",
   "language": "python",
   "name": "python3"
  },
  "language_info": {
   "codemirror_mode": {
    "name": "ipython",
    "version": 3
   },
   "file_extension": ".py",
   "mimetype": "text/x-python",
   "name": "python",
   "nbconvert_exporter": "python",
   "pygments_lexer": "ipython3",
   "version": "3.7.10"
  },
  "papermill": {
   "default_parameters": {},
   "duration": 11.835862,
   "end_time": "2022-09-30T11:47:13.438210",
   "environment_variables": {},
   "exception": null,
   "input_path": "__notebook__.ipynb",
   "output_path": "__notebook__.ipynb",
   "parameters": {},
   "start_time": "2022-09-30T11:47:01.602348",
   "version": "2.3.3"
  }
 },
 "nbformat": 4,
 "nbformat_minor": 5
}
